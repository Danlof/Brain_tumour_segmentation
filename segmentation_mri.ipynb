{
 "cells": [
  {
   "cell_type": "markdown",
   "id": "df68018b-4684-4b5e-a14c-083672ead914",
   "metadata": {},
   "source": [
    "# Brain tumor segmentation"
   ]
  },
  {
   "cell_type": "markdown",
   "id": "f7fd8bb7-44fd-448a-84c7-d56644b5f158",
   "metadata": {},
   "source": [
    "- The segmentation-models-pytorch is a deep learning package used for image segmentation tasks "
   ]
  },
  {
   "cell_type": "code",
   "execution_count": 1,
   "id": "dae89c7c-26c9-4e89-92ba-4845b7638809",
   "metadata": {},
   "outputs": [],
   "source": [
    "# installing packages\n",
    "# this is a very large package take your time \n",
    "pip install --default-timeout=120 segmentation-models-pytorch"
   ]
  },
  {
   "cell_type": "code",
   "execution_count": 3,
   "id": "ef26a0b0-4298-406e-b2cb-7aff8fd4d373",
   "metadata": {},
   "outputs": [],
   "source": [
    "pip install -q opencv-python # -q for quiet"
   ]
  },
  {
   "cell_type": "code",
   "execution_count": 4,
   "id": "3978ae2f-1d73-46be-9137-20ea658fb57f",
   "metadata": {},
   "outputs": [
    {
     "name": "stdout",
     "output_type": "stream",
     "text": [
      "Note: you may need to restart the kernel to use updated packages.\n"
     ]
    }
   ],
   "source": [
    "pip install -q albumentations"
   ]
  },
  {
   "cell_type": "code",
   "execution_count": 2,
   "id": "a0aa02f4-6208-4377-bcfa-c5a0a03d4fcd",
   "metadata": {},
   "outputs": [],
   "source": [
    "import os # provides a way to interact with the operating system\n",
    "import time\n",
    "from glob import glob # used for pattern matching files and directories in a file system.\n",
    "from tqdm import tqdm # progress indicator for tasks that involve iteration"
   ]
  },
  {
   "cell_type": "code",
   "execution_count": 3,
   "id": "62cb2944-3eb6-43bc-be57-4ce2ee6a58e0",
   "metadata": {},
   "outputs": [
    {
     "name": "stderr",
     "output_type": "stream",
     "text": [
      "/tmp/ipykernel_4377/3532261297.py:7: DeprecationWarning: Please use `binary_dilation` from the `scipy.ndimage` namespace, the `scipy.ndimage.morphology` namespace is deprecated.\n",
      "  from scipy.ndimage.morphology import binary_dilation # used for morphological operations on binary (boolean) images\n"
     ]
    }
   ],
   "source": [
    "import cv2 # open source computer vision package used computer vision\n",
    "import numpy as np\n",
    "import pandas as pd\n",
    "import matplotlib.patches as mpatches\n",
    "import matplotlib.pyplot as plt\n",
    "import albumentations as A # for image augmentation \n",
    "from scipy.ndimage.morphology import binary_dilation # used for morphological operations on binary (boolean) images\n",
    "import segmentation_models_pytorch as smp\n",
    "from sklearn.impute import SimpleImputer\n",
    "from sklearn.model_selection import train_test_split\n"
   ]
  },
  {
   "cell_type": "code",
   "execution_count": 4,
   "id": "53454758-cea6-4177-b998-20d305d6b4ce",
   "metadata": {},
   "outputs": [],
   "source": [
    "import torch\n",
    "from torch.optim import Adam # Adaptive Moment Estimation is an optimization algorithm\n",
    "from torch.optim.lr_scheduler import ReduceLROnPlateau\n",
    "from torch.utils.data import Dataset ,DataLoader\n",
    "from torchvision import transforms as T"
   ]
  },
  {
   "cell_type": "code",
   "execution_count": 7,
   "id": "1b3fda7a-4423-4af4-b963-4adb527a47e1",
   "metadata": {},
   "outputs": [],
   "source": [
    "# check for CUDA compatible GPU\n",
    "\n",
    "device = torch.device('cuda' if torch.cuda.is_available() else 'cpu')"
   ]
  },
  {
   "cell_type": "markdown",
   "id": "d918be72-ae6c-4a82-82ae-3285e46640cf",
   "metadata": {},
   "source": [
    "## Data Preprocessing"
   ]
  },
  {
   "cell_type": "code",
   "execution_count": 9,
   "id": "837f1a1a-f900-41d8-881b-71d53abe3008",
   "metadata": {},
   "outputs": [
    {
     "name": "stdout",
     "output_type": "stream",
     "text": [
      "<class 'pandas.core.frame.DataFrame'>\n",
      "RangeIndex: 110 entries, 0 to 109\n",
      "Data columns (total 18 columns):\n",
      " #   Column                     Non-Null Count  Dtype  \n",
      "---  ------                     --------------  -----  \n",
      " 0   Patient                    110 non-null    object \n",
      " 1   RNASeqCluster              92 non-null     float64\n",
      " 2   MethylationCluster         109 non-null    float64\n",
      " 3   miRNACluster               110 non-null    int64  \n",
      " 4   CNCluster                  108 non-null    float64\n",
      " 5   RPPACluster                98 non-null     float64\n",
      " 6   OncosignCluster            105 non-null    float64\n",
      " 7   COCCluster                 110 non-null    int64  \n",
      " 8   histological_type          109 non-null    float64\n",
      " 9   neoplasm_histologic_grade  109 non-null    float64\n",
      " 10  tumor_tissue_site          109 non-null    float64\n",
      " 11  laterality                 109 non-null    float64\n",
      " 12  tumor_location             109 non-null    float64\n",
      " 13  gender                     109 non-null    float64\n",
      " 14  age_at_initial_pathologic  109 non-null    float64\n",
      " 15  race                       108 non-null    float64\n",
      " 16  ethnicity                  102 non-null    float64\n",
      " 17  death01                    109 non-null    float64\n",
      "dtypes: float64(15), int64(2), object(1)\n",
      "memory usage: 15.6+ KB\n"
     ]
    }
   ],
   "source": [
    "# getting files \n",
    "files_dir = '/media/danlof/USB STICK/MRI/kaggle_3m'\n",
    "file_paths = glob(f'{files_dir}/*/*[0-9].tif')\n",
    "\n",
    "# loading files \n",
    "csv_path = '/media/danlof/USB STICK/MRI/kaggle_3m/data.csv'\n",
    "mri_df = pd.read_csv(csv_path)\n",
    "mri_df.info()"
   ]
  },
  {
   "cell_type": "code",
   "execution_count": null,
   "id": "707533b8-bb01-45cd-a580-b950726afbde",
   "metadata": {},
   "outputs": [],
   "source": []
  }
 ],
 "metadata": {
  "kernelspec": {
   "display_name": "UNET",
   "language": "python",
   "name": "unet"
  },
  "language_info": {
   "codemirror_mode": {
    "name": "ipython",
    "version": 3
   },
   "file_extension": ".py",
   "mimetype": "text/x-python",
   "name": "python",
   "nbconvert_exporter": "python",
   "pygments_lexer": "ipython3",
   "version": "3.10.12"
  }
 },
 "nbformat": 4,
 "nbformat_minor": 5
}
